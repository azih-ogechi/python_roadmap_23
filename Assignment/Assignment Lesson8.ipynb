{
 "cells": [
  {
   "cell_type": "markdown",
   "id": "f05235eb",
   "metadata": {},
   "source": [
    "## Assignment Lesson8"
   ]
  },
  {
   "cell_type": "code",
   "execution_count": 2,
   "id": "60da2633",
   "metadata": {},
   "outputs": [
    {
     "name": "stdout",
     "output_type": "stream",
     "text": [
      "AZIH OHA\n"
     ]
    }
   ],
   "source": [
    "# Declare two string variables of your choice and print them out\n",
    "my_name = \"AZIH\"\n",
    "fav_food = \"OHA\"\n",
    "print(my_name, fav_food)"
   ]
  },
  {
   "cell_type": "code",
   "execution_count": 24,
   "id": "bf7044ee",
   "metadata": {},
   "outputs": [
    {
     "name": "stdout",
     "output_type": "stream",
     "text": [
      "A A\n",
      "first character and last character is the same A A \n",
      "\n"
     ]
    }
   ],
   "source": [
    "# Check if the first character of the first variable is same as \n",
    "# the last character of the last variable as in the variables above \n",
    "# and print out appropriate statements stating the outcome\n",
    "\n",
    "first_character = my_name[0]\n",
    "last_character = fav_food[2]\n",
    "print(first_character, last_character)\n",
    "\n",
    "if first_character == last_character:\n",
    "    print('first character and last character is the same',first_character, last_character, '\\n')\n",
    "else:    \n",
    "    print('first character and last character is not the same', first_character, last_character)"
   ]
  },
  {
   "cell_type": "code",
   "execution_count": 28,
   "id": "b7fc8728",
   "metadata": {},
   "outputs": [
    {
     "name": "stdout",
     "output_type": "stream",
     "text": [
      "4 3\n",
      "my name is long 4 3 \n",
      "\n",
      "the length of 1st variable and last variable are not the same 4 3\n"
     ]
    }
   ],
   "source": [
    "# Check if the length of the first variable is greater than the length\n",
    "# of the last variable, also check if they are equaltoo, print out appropriate print statement  for each result\n",
    "length_my_name = len(my_name)\n",
    "length_fav_food = len(fav_food)\n",
    "print(length_my_name, length_fav_food)\n",
    "\n",
    "#comparison using the operator 'greater than'\n",
    "if length_my_name > length_fav_food:\n",
    "    print('my name is long', length_my_name, length_fav_food, '\\n')\n",
    "else:\n",
    "    print('my name is short', length_my_name, length_fav_food,)\n",
    "    \n",
    "#comparison using the operator 'equal to'    \n",
    "if length_my_name == length_fav_food:\n",
    "    print(\"the length of 1st variable and last variable are the same\", length_my_name, length_fav_food, '\\n')\n",
    "else:\n",
    "    print('the length of 1st variable and last variable are not the same', length_my_name, length_fav_food)\n",
    "    \n",
    "    \n",
    "    "
   ]
  },
  {
   "cell_type": "code",
   "execution_count": 32,
   "id": "f51cb695",
   "metadata": {},
   "outputs": [
    {
     "name": "stdout",
     "output_type": "stream",
     "text": [
      "H\n"
     ]
    },
    {
     "data": {
      "text/plain": [
       "True"
      ]
     },
     "execution_count": 32,
     "metadata": {},
     "output_type": "execute_result"
    }
   ],
   "source": [
    "# Check if the last character of the first variable is in the last variable and print a statement if true or false\n",
    "last_character_my_name = my_name[3]\n",
    "print(last_character_my_name)\n",
    "\n",
    "last_character_my_name in fav_food"
   ]
  },
  {
   "cell_type": "code",
   "execution_count": 55,
   "id": "ee8448b5",
   "metadata": {},
   "outputs": [
    {
     "name": "stdout",
     "output_type": "stream",
     "text": [
      "type in a random number50\n",
      "50\n",
      "50\n",
      "0\n"
     ]
    }
   ],
   "source": [
    "# prompt for input of a random number and check if it is an even number or an odd number, print proper outcome\n",
    "age = input(\"type in a random number\")\n",
    "print(age)\n",
    "\n",
    "age_int = int(age)\n",
    "print(age_int)\n",
    "print(age_int%2) #THEREFORE RANDOM NUMBER IS AN EVEN NUMBER"
   ]
  },
  {
   "cell_type": "code",
   "execution_count": null,
   "id": "7a9827a0",
   "metadata": {},
   "outputs": [],
   "source": []
  },
  {
   "cell_type": "code",
   "execution_count": 63,
   "id": "45edab18",
   "metadata": {},
   "outputs": [
    {
     "name": "stdout",
     "output_type": "stream",
     "text": [
      "MY NAME ISADAOBI\n",
      "ADAOBI\n",
      "I\n",
      "6\n",
      "6\n"
     ]
    },
    {
     "data": {
      "text/plain": [
       "0"
      ]
     },
     "execution_count": 63,
     "metadata": {},
     "output_type": "execute_result"
    }
   ],
   "source": [
    "# prompt the user to type a text , then check if the last character\n",
    "# is in the first variable above and if the length of the text is an odd number, print out as usual\n",
    "name = input('MY NAME IS')\n",
    "print(name)\n",
    "\n",
    "name_last_character = name[5]\n",
    "print(name_last_character) \n",
    "\n",
    "name_last_character in my_name\n",
    "\n",
    "length_name = len(name)\n",
    "print(length_name)\n",
    "\n",
    "length_name_int = int(length_name)\n",
    "print(length_name_int)\n",
    "\n",
    "length_name_int%2 #THEREFORE LENGTH OF TEXT IS NOT AN EVEN NUMBER"
   ]
  },
  {
   "cell_type": "code",
   "execution_count": 65,
   "id": "69faa04a",
   "metadata": {},
   "outputs": [
    {
     "name": "stdout",
     "output_type": "stream",
     "text": [
      "what is your nameNNENA\n",
      "NNENA\n",
      "good morning NNENA\n"
     ]
    }
   ],
   "source": [
    "# Write an if statement that asks for the user’s name via an input() function. \n",
    "# If the name is “obi” make it print “welcome on board 007” otherwise make it print \n",
    "# “good morning NAME”. (Replace NAME with users name)  \n",
    "\n",
    "username = input('what is your name')\n",
    "print(username)\n",
    "\n",
    "if username == 'obi':\n",
    "    print('welcome on board 007', username, '\\n')\n",
    "else:\n",
    "    print('good morning', username)"
   ]
  },
  {
   "cell_type": "code",
   "execution_count": null,
   "id": "af391108",
   "metadata": {},
   "outputs": [],
   "source": []
  }
 ],
 "metadata": {
  "kernelspec": {
   "display_name": "Python 3 (ipykernel)",
   "language": "python",
   "name": "python3"
  },
  "language_info": {
   "codemirror_mode": {
    "name": "ipython",
    "version": 3
   },
   "file_extension": ".py",
   "mimetype": "text/x-python",
   "name": "python",
   "nbconvert_exporter": "python",
   "pygments_lexer": "ipython3",
   "version": "3.10.9"
  }
 },
 "nbformat": 4,
 "nbformat_minor": 5
}
