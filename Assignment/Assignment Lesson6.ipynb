{
 "cells": [
  {
   "cell_type": "markdown",
   "id": "760442df",
   "metadata": {},
   "source": [
    "## Assignment Lesson6"
   ]
  },
  {
   "cell_type": "code",
   "execution_count": 25,
   "id": "13afb001",
   "metadata": {},
   "outputs": [],
   "source": [
    "# Define a tuple to hold all your school details\n",
    "my_tuple = ('UNEC', 'BUSINESS ADMINISTRATION', 'MARKETING')"
   ]
  },
  {
   "cell_type": "code",
   "execution_count": 27,
   "id": "36d5b66f",
   "metadata": {},
   "outputs": [
    {
     "name": "stdout",
     "output_type": "stream",
     "text": [
      "UNEC\n",
      "BUSINESS ADMINISTRATION\n",
      "MARKETING\n"
     ]
    }
   ],
   "source": [
    "# create variables to holds each elements of that tuple\n",
    "school_name,faculty,dept = my_tuple\n",
    "print(school_name)\n",
    "print(faculty)\n",
    "print(dept)\n"
   ]
  },
  {
   "cell_type": "code",
   "execution_count": 4,
   "id": "3f9e9f04",
   "metadata": {},
   "outputs": [
    {
     "name": "stdout",
     "output_type": "stream",
     "text": [
      "Azih\n"
     ]
    }
   ],
   "source": [
    "# define a string variable to hold your name\n",
    "my_name = \"Azih\"\n",
    "print(my_name)"
   ]
  },
  {
   "cell_type": "code",
   "execution_count": 5,
   "id": "6aa00fa1",
   "metadata": {},
   "outputs": [
    {
     "name": "stdout",
     "output_type": "stream",
     "text": [
      "['A', 'z', 'i', 'h']\n"
     ]
    }
   ],
   "source": [
    "# Cast the variable holding your name to a list\n",
    "my_name_list = list(my_name)\n",
    "print(my_name_list)"
   ]
  },
  {
   "cell_type": "code",
   "execution_count": 7,
   "id": "686a82ce",
   "metadata": {},
   "outputs": [
    {
     "name": "stdout",
     "output_type": "stream",
     "text": [
      "('A', 'z', 'i', 'h')\n"
     ]
    }
   ],
   "source": [
    "# Cast the list to a tuple\n",
    "my_name_list_tup = tuple(my_name_list)\n",
    "print(my_name_list_tup)\n"
   ]
  },
  {
   "cell_type": "code",
   "execution_count": 9,
   "id": "3bf1e181",
   "metadata": {},
   "outputs": [],
   "source": [
    "# Create three lists of items in a grosary store\n",
    "body_care = ['vaseline', 'coconut oil', 'roll-on', 'spray', 'nivea']\n",
    "prov = ['cornflakes', 'golden-morn', 'oat-meal', 'nivea']\n",
    "toilet_soap = ['eva', 'ivory', 'premiere', 'deltol', 'nivea']"
   ]
  },
  {
   "cell_type": "code",
   "execution_count": 12,
   "id": "3a514a5d",
   "metadata": {},
   "outputs": [
    {
     "name": "stdout",
     "output_type": "stream",
     "text": [
      "{'golden-morn', 'deltol', 'ivory', 'roll-on', 'nivea', 'vaseline', 'eva', 'coconut oil', 'premiere', 'cornflakes', 'spray', 'oat-meal'}\n"
     ]
    }
   ],
   "source": [
    "# Join the three lists to form one then then remove duplicates\n",
    "my_set1 = set(body_care+ prov+ toilet_soap)\n",
    "print(my_set1)"
   ]
  },
  {
   "cell_type": "code",
   "execution_count": 20,
   "id": "68670379",
   "metadata": {},
   "outputs": [
    {
     "data": {
      "text/plain": [
       "{3, 4, 5}"
      ]
     },
     "execution_count": 20,
     "metadata": {},
     "output_type": "execute_result"
    }
   ],
   "source": [
    "# Create three more sets with common items, then find their union, intersection and difference\n",
    "set_1 = {1, 2, 3, 4, 5}\n",
    "set_2 = {1, 2, 3, 6, 4, 5}\n",
    "set_3 = {3, 4, 5, 6}\n",
    "\n",
    "#Intersection\n",
    "set_1.intersection(set_2,set_3)"
   ]
  },
  {
   "cell_type": "code",
   "execution_count": 22,
   "id": "bfb85dfc",
   "metadata": {},
   "outputs": [
    {
     "data": {
      "text/plain": [
       "{1, 2}"
      ]
     },
     "execution_count": 22,
     "metadata": {},
     "output_type": "execute_result"
    }
   ],
   "source": [
    "#Difference\n",
    "set_1.difference(set_3)"
   ]
  },
  {
   "cell_type": "code",
   "execution_count": 18,
   "id": "d47206af",
   "metadata": {},
   "outputs": [],
   "source": [
    "#Union\n",
    "set_1.union?"
   ]
  },
  {
   "cell_type": "code",
   "execution_count": 19,
   "id": "89c0aef2",
   "metadata": {},
   "outputs": [
    {
     "data": {
      "text/plain": [
       "{1, 2, 3, 4, 5, 6}"
      ]
     },
     "execution_count": 19,
     "metadata": {},
     "output_type": "execute_result"
    }
   ],
   "source": [
    "set_1.union(set_2,set_3)"
   ]
  },
  {
   "cell_type": "code",
   "execution_count": null,
   "id": "fb0c2bcb",
   "metadata": {},
   "outputs": [],
   "source": []
  }
 ],
 "metadata": {
  "kernelspec": {
   "display_name": "Python 3 (ipykernel)",
   "language": "python",
   "name": "python3"
  },
  "language_info": {
   "codemirror_mode": {
    "name": "ipython",
    "version": 3
   },
   "file_extension": ".py",
   "mimetype": "text/x-python",
   "name": "python",
   "nbconvert_exporter": "python",
   "pygments_lexer": "ipython3",
   "version": "3.10.9"
  }
 },
 "nbformat": 4,
 "nbformat_minor": 5
}
